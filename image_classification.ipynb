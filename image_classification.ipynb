{
 "cells": [
  {
   "cell_type": "markdown",
   "metadata": {
    "collapsed": true,
    "deletable": true,
    "editable": true
   },
   "source": [
    "# Image Classification\n",
    "In this project, we'll classify images from the [CIFAR-10 dataset](https://www.cs.toronto.edu/~kriz/cifar.html). The dataset consists of airplanes, dogs, cats, and other objects. We'll preprocess the images, then train a convolutional neural network on all the samples. The images need to be normalized and the labels need to be one-hot encoded.\n",
    "## Get the Data\n",
    "We run the following cell to download the [CIFAR-10 dataset for python](https://www.cs.toronto.edu/~kriz/cifar-10-python.tar.gz)."
   ]
  },
  {
   "cell_type": "code",
   "execution_count": 2,
   "metadata": {
    "collapsed": false,
    "deletable": true,
    "editable": true
   },
   "outputs": [
    {
     "name": "stderr",
     "output_type": "stream",
     "text": [
      "CIFAR-10 Dataset: 171MB [01:07, 2.53MB/s]                                                                              \n"
     ]
    },
    {
     "name": "stdout",
     "output_type": "stream",
     "text": [
      "All files found!\n"
     ]
    }
   ],
   "source": [
    "from urllib.request import urlretrieve\n",
    "from os.path import isfile, isdir\n",
    "from tqdm import tqdm\n",
    "import problem_unittests as tests\n",
    "import tarfile\n",
    "\n",
    "cifar10_dataset_folder_path = 'cifar-10-batches-py'\n",
    "\n",
    "class DLProgress(tqdm):\n",
    "    last_block = 0\n",
    "\n",
    "    def hook(self, block_num=1, block_size=1, total_size=None):\n",
    "        self.total = total_size\n",
    "        self.update((block_num - self.last_block) * block_size)\n",
    "        self.last_block = block_num\n",
    "\n",
    "if not isfile('cifar-10-python.tar.gz'):\n",
    "    with DLProgress(unit='B', unit_scale=True, miniters=1, desc='CIFAR-10 Dataset') as pbar:\n",
    "        urlretrieve(\n",
    "            'https://www.cs.toronto.edu/~kriz/cifar-10-python.tar.gz',\n",
    "            'cifar-10-python.tar.gz',\n",
    "            pbar.hook)\n",
    "\n",
    "if not isdir(cifar10_dataset_folder_path):\n",
    "    with tarfile.open('cifar-10-python.tar.gz') as tar:\n",
    "        tar.extractall()\n",
    "        tar.close()\n",
    "\n",
    "\n",
    "tests.test_folder_path(cifar10_dataset_folder_path)"
   ]
  },
  {
   "cell_type": "markdown",
   "metadata": {
    "deletable": true,
    "editable": true
   },
   "source": [
    "## Explore the Data\n",
    "The dataset is broken into batches to prevent our machine from running out of memory. The CIFAR-10 dataset consists of 5 batches, named `data_batch_1`, `data_batch_2`, etc.. Each batch contains the labels and images that are one of the following:\n",
    "* airplane\n",
    "* automobile\n",
    "* bird\n",
    "* cat\n",
    "* deer\n",
    "* dog\n",
    "* frog\n",
    "* horse\n",
    "* ship\n",
    "* truck\n",
    "\n",
    "Understanding a dataset is part of making predictions on the data.  We can play around with the code cell below by changing the `batch_id` and `sample_id`. The `batch_id` is the id for a batch (1-5). The `sample_id` is the id for a image and label pair in the batch."
   ]
  },
  {
   "cell_type": "code",
   "execution_count": 3,
   "metadata": {
    "collapsed": false,
    "deletable": true,
    "editable": true
   },
   "outputs": [
    {
     "name": "stdout",
     "output_type": "stream",
     "text": [
      "\n",
      "Stats of batch 1:\n",
      "Samples: 10000\n",
      "Label Counts: {0: 1005, 1: 974, 2: 1032, 3: 1016, 4: 999, 5: 937, 6: 1030, 7: 1001, 8: 1025, 9: 981}\n",
      "First 20 Labels: [6, 9, 9, 4, 1, 1, 2, 7, 8, 3, 4, 7, 7, 2, 9, 9, 9, 3, 2, 6]\n",
      "\n",
      "Example of Image 20:\n",
      "Image - Min Value: 34 Max Value: 228\n",
      "Image - Shape: (32, 32, 3)\n",
      "Label - Label Id: 4 Name: deer\n"
     ]
    },
    {
     "data": {
      "image/png": "[encoded data removed]",
      "text/plain": [
       "<matplotlib.figure.Figure at 0x1ad9f8efb38>"
      ]
     },
     "metadata": {
      "image/png": {
       "height": 250,
       "width": 253
      }
     },
     "output_type": "display_data"
    }
   ],
   "source": [
    "%matplotlib inline\n",
    "%config InlineBackend.figure_format = 'retina'\n",
    "\n",
    "import helper\n",
    "import numpy as np\n",
    "\n",
    "# Explore the dataset\n",
    "batch_id = 1\n",
    "sample_id = 20\n",
    "helper.display_stats(cifar10_dataset_folder_path, batch_id, sample_id)"
   ]
  },
  {
   "cell_type": "markdown",
   "metadata": {
    "deletable": true,
    "editable": true
   },
   "source": [
    "## Implement Preprocess Functions\n",
    "### Normalize\n",
    "In the cell below, we will implement the `normalize` function to take in image data, `x`, and return it as a normalized Numpy array. The values should be in the range of 0 to 1, inclusive.  The return object should be the same shape as `x`."
   ]
  },
  {
   "cell_type": "code",
   "execution_count": 4,
   "metadata": {
    "collapsed": false,
    "deletable": true,
    "editable": true
   },
   "outputs": [
    {
     "name": "stdout",
     "output_type": "stream",
     "text": [
      "Tests Passed\n"
     ]
    }
   ],
   "source": [
    "def normalize(x):\n",
    "    \"\"\"\n",
    "    Normalize a list of sample image data in the range of 0 to 1\n",
    "    : x: List of image data.  The image shape is (32, 32, 3)\n",
    "    : return: Numpy array of normalize data\n",
    "    \"\"\"\n",
    "    lower = np.min(x)\n",
    "    upper = np.max(x)\n",
    "    \n",
    "    return (x - lower)/(upper - lower)\n",
    "\n",
    "\n",
    "tests.test_normalize(normalize)"
   ]
  },
  {
   "cell_type": "markdown",
   "metadata": {
    "deletable": true,
    "editable": true
   },
   "source": [
    "### One-hot encode\n",
    "In the cell below, we will implement the `one_hot_encode` function to take the input, `x`, a list of labels, and return the list of labels as One-Hot encoded Numpy array. The possible values for labels are 0 to 9."
   ]
  },
  {
   "cell_type": "code",
   "execution_count": 5,
   "metadata": {
    "collapsed": false,
    "deletable": true,
    "editable": true
   },
   "outputs": [
    {
     "name": "stdout",
     "output_type": "stream",
     "text": [
      "Tests Passed\n"
     ]
    }
   ],
   "source": [
    "def one_hot_encode(x):\n",
    "    \"\"\"\n",
    "    One hot encode a list of sample labels. Return a one-hot encoded vector for each label.\n",
    "    : x: List of sample Labels\n",
    "    : return: Numpy array of one-hot encoded labels\n",
    "    \"\"\"\n",
    "    return np.eye(10)[x]\n",
    "\n",
    "\n",
    "tests.test_one_hot_encode(one_hot_encode)"
   ]
  },
  {
   "cell_type": "markdown",
   "metadata": {
    "deletable": true,
    "editable": true
   },
   "source": [
    "### Randomize Data\n",
    "As we saw from exploring the data above, the order of the samples are randomized. It doesn't hurt to randomize it again, but you don't need to for this dataset."
   ]
  },
  {
   "cell_type": "markdown",
   "metadata": {
    "deletable": true,
    "editable": true
   },
   "source": [
    "## Preprocess all the data and save it\n",
    "Running the code cell below will preprocess all the CIFAR-10 data and save it to file. The code below also uses 10% of the training data for validation."
   ]
  },
  {
   "cell_type": "code",
   "execution_count": 6,
   "metadata": {
    "collapsed": false,
    "deletable": true,
    "editable": true
   },
   "outputs": [],
   "source": [
    "# Preprocess Training, Validation, and Testing Data\n",
    "helper.preprocess_and_save_data(cifar10_dataset_folder_path, normalize, one_hot_encode)"
   ]
  },
  {
   "cell_type": "markdown",
   "metadata": {
    "deletable": true,
    "editable": true
   },
   "source": [
    "# Check Point\n",
    "If we ever decide to come back to this notebook or have to restart the notebook, we can start from here.  The preprocessed data has been saved to disk."
   ]
  },
  {
   "cell_type": "code",
   "execution_count": 7,
   "metadata": {
    "collapsed": true,
    "deletable": true,
    "editable": true
   },
   "outputs": [],
   "source": [
    "import pickle\n",
    "import problem_unittests as tests\n",
    "import helper\n",
    "\n",
    "# Load the Preprocessed Validation data\n",
    "valid_features, valid_labels = pickle.load(open('preprocess_validation.p', mode='rb'))"
   ]
  },
  {
   "cell_type": "markdown",
   "metadata": {
    "deletable": true,
    "editable": true
   },
   "source": [
    "## Build the network\n",
    "For the neural network, we'll build each layer into a function.\n",
    "\n",
    "### Input\n",
    "The neural network needs to read the image data, one-hot encoded labels, and dropout keep probability.\n",
    "* Implement `neural_net_image_input`\n",
    " * Return a [TF Placeholder](https://www.tensorflow.org/api_docs/python/tf/placeholder)\n",
    " * Set the shape using `image_shape` with batch size set to `None`.\n",
    " * Name the TensorFlow placeholder \"x\" using the TensorFlow `name` parameter in the [TF Placeholder](https://www.tensorflow.org/api_docs/python/tf/placeholder).\n",
    "* Implement `neural_net_label_input`\n",
    " * Return a [TF Placeholder](https://www.tensorflow.org/api_docs/python/tf/placeholder)\n",
    " * Set the shape using `n_classes` with batch size set to `None`.\n",
    " * Name the TensorFlow placeholder \"y\" using the TensorFlow `name` parameter in the [TF Placeholder](https://www.tensorflow.org/api_docs/python/tf/placeholder).\n",
    "* Implement `neural_net_keep_prob_input`\n",
    " * Return a [TF Placeholder](https://www.tensorflow.org/api_docs/python/tf/placeholder) for dropout keep probability.\n",
    " * Name the TensorFlow placeholder \"keep_prob\" using the TensorFlow `name` parameter in the [TF Placeholder](https://www.tensorflow.org/api_docs/python/tf/placeholder).\n",
    "\n",
    "These names will be used at the end of the project to load our saved model."
   ]
  },
  {
   "cell_type": "code",
   "execution_count": 8,
   "metadata": {
    "collapsed": false,
    "deletable": true,
    "editable": true
   },
   "outputs": [
    {
     "name": "stdout",
     "output_type": "stream",
     "text": [
      "Image Input Tests Passed.\n",
      "Label Input Tests Passed.\n",
      "Keep Prob Tests Passed.\n"
     ]
    }
   ],
   "source": [
    "import tensorflow as tf\n",
    "\n",
    "def neural_net_image_input(image_shape):\n",
    "    \"\"\"\n",
    "    Return a Tensor for a bach of image input\n",
    "    : image_shape: Shape of the images\n",
    "    : return: Tensor for image input.\n",
    "    \"\"\"\n",
    "    return tf.placeholder(tf.float32, [None, *image_shape], name='x')\n",
    "\n",
    "\n",
    "def neural_net_label_input(n_classes):\n",
    "    \"\"\"\n",
    "    Return a Tensor for a batch of label input\n",
    "    : n_classes: Number of classes\n",
    "    : return: Tensor for label input.\n",
    "    \"\"\"\n",
    "    return tf.placeholder(tf.float32, [None, n_classes], name='y')\n",
    "\n",
    "\n",
    "def neural_net_keep_prob_input():\n",
    "    \"\"\"\n",
    "    Return a Tensor for keep probability\n",
    "    : return: Tensor for keep probability.\n",
    "    \"\"\"\n",
    "    return tf.placeholder(tf.float32, name='keep_prob')\n",
    "\n",
    "\n",
    "tf.reset_default_graph()\n",
    "tests.test_nn_image_inputs(neural_net_image_input)\n",
    "tests.test_nn_label_inputs(neural_net_label_input)\n",
    "tests.test_nn_keep_prob_inputs(neural_net_keep_prob_input)"
   ]
  },
  {
   "cell_type": "markdown",
   "metadata": {
    "deletable": true,
    "editable": true
   },
   "source": [
    "### Convolution and Max Pooling Layer\n",
    "Convolution layers have a lot of success with images. For this code cell, we should implement the function `conv2d_maxpool` to apply convolution then max pooling:\n",
    "* Create the weight and bias using `conv_ksize`, `conv_num_outputs` and the shape of `x_tensor`.\n",
    "* Apply a convolution to `x_tensor` using weight and `conv_strides`.\n",
    "* Add bias\n",
    "* Add a nonlinear activation to the convolution.\n",
    "* Apply Max Pooling using `pool_ksize` and `pool_strides`."
   ]
  },
  {
   "cell_type": "code",
   "execution_count": 13,
   "metadata": {
    "collapsed": false,
    "deletable": true,
    "editable": true
   },
   "outputs": [
    {
     "name": "stdout",
     "output_type": "stream",
     "text": [
      "Tests Passed\n"
     ]
    }
   ],
   "source": [
    "def conv2d_maxpool(x_tensor, conv_num_outputs, conv_ksize, conv_strides, pool_ksize, pool_strides):\n",
    "    \"\"\"\n",
    "    Apply convolution then max pooling to x_tensor\n",
    "    :param x_tensor: TensorFlow Tensor\n",
    "    :param conv_num_outputs: Number of outputs for the convolutional layer\n",
    "    :param conv_ksize: kernal size 2-D Tuple for the convolutional layer\n",
    "    :param conv_strides: Stride 2-D Tuple for convolution\n",
    "    :param pool_ksize: kernal size 2-D Tuple for pool\n",
    "    :param pool_strides: Stride 2-D Tuple for pool\n",
    "    : return: A tensor that represents convolution and max pooling of x_tensor\n",
    "    \"\"\"\n",
    "    input_depth = int(x_tensor.get_shape().as_list()[3])\n",
    "    output_depth = conv_num_outputs\n",
    "    weight_shape = [*conv_ksize, input_depth, output_depth]\n",
    "    weight = tf.Variable(tf.random_normal(weight_shape, stddev=0.1))\n",
    "    bias = tf.Variable(tf.zeros(output_depth))\n",
    "    \n",
    "    conv_strides = [1, *conv_strides, 1]\n",
    "    x = tf.nn.conv2d(x_tensor, weight, strides=conv_strides, padding='SAME')\n",
    "    \n",
    "    x = tf.nn.bias_add(x, bias)\n",
    "    x = tf.nn.relu(x)\n",
    "    \n",
    "    pool_ksize = [1, *pool_ksize, 1]\n",
    "    pool_strides = [1, *pool_strides, 1]\n",
    "    x = tf.nn.max_pool(x, pool_ksize, pool_strides, padding='SAME')\n",
    "    return x \n",
    "\n",
    "\n",
    "tests.test_con_pool(conv2d_maxpool)"
   ]
  },
  {
   "cell_type": "markdown",
   "metadata": {
    "deletable": true,
    "editable": true
   },
   "source": [
    "### Flatten Layer\n",
    "We implement the `flatten` function to change the dimension of `x_tensor` from a 4-D tensor to a 2-D tensor. The output should be the shape (*Batch Size*, *Flattened Image Size*)."
   ]
  },
  {
   "cell_type": "code",
   "execution_count": 14,
   "metadata": {
    "collapsed": false,
    "deletable": true,
    "editable": true
   },
   "outputs": [
    {
     "name": "stdout",
     "output_type": "stream",
     "text": [
      "Tests Passed\n"
     ]
    }
   ],
   "source": [
    "def flatten(x_tensor):\n",
    "    \"\"\"\n",
    "    Flatten x_tensor to (Batch Size, Flattened Image Size)\n",
    "    : x_tensor: A tensor of size (Batch Size, ...), where ... are the image dimensions.\n",
    "    : return: A tensor of size (Batch Size, Flattened Image Size).\n",
    "    \"\"\"\n",
    "    batch_size, *image_size = x_tensor.get_shape().as_list()\n",
    "    image_size = image_size[0] * image_size[1] * image_size[2]\n",
    "    return tf.reshape(x_tensor, [-1, image_size])\n",
    "\n",
    "\n",
    "tests.test_flatten(flatten)"
   ]
  },
  {
   "cell_type": "markdown",
   "metadata": {
    "deletable": true,
    "editable": true
   },
   "source": [
    "### Fully-Connected Layer\n",
    "We implement the `fully_conn` function to apply a fully connected layer to `x_tensor` with the shape (*Batch Size*, *num_outputs*)."
   ]
  },
  {
   "cell_type": "code",
   "execution_count": 16,
   "metadata": {
    "collapsed": false,
    "deletable": true,
    "editable": true
   },
   "outputs": [
    {
     "name": "stdout",
     "output_type": "stream",
     "text": [
      "Tests Passed\n"
     ]
    }
   ],
   "source": [
    "def fully_conn(x_tensor, num_outputs):\n",
    "    \"\"\"\n",
    "    Apply a fully connected layer to x_tensor using weight and bias\n",
    "    : x_tensor: A 2-D tensor where the first dimension is batch size.\n",
    "    : num_outputs: The number of output that the new tensor should be.\n",
    "    : return: A 2-D tensor where the second dimension is num_outputs.\n",
    "    \"\"\"\n",
    "    shape = (int(x_tensor.get_shape().as_list()[1]), num_outputs)\n",
    "    weight = tf.Variable(tf.random_normal(shape, stddev=0.1))\n",
    "    bias = tf.Variable(tf.zeros(num_outputs))\n",
    "    x = tf.add(tf.matmul(x_tensor, weight), bias)\n",
    "    x = tf.nn.relu(x)\n",
    "    return x\n",
    "\n",
    "\n",
    "tests.test_fully_conn(fully_conn)"
   ]
  },
  {
   "cell_type": "markdown",
   "metadata": {
    "deletable": true,
    "editable": true
   },
   "source": [
    "### Output Layer\n",
    "We implement the `output` function to apply a fully connected layer to `x_tensor` with the shape (*Batch Size*, *num_outputs*)."
   ]
  },
  {
   "cell_type": "code",
   "execution_count": 17,
   "metadata": {
    "collapsed": false,
    "deletable": true,
    "editable": true
   },
   "outputs": [
    {
     "name": "stdout",
     "output_type": "stream",
     "text": [
      "Tests Passed\n"
     ]
    }
   ],
   "source": [
    "def output(x_tensor, num_outputs):\n",
    "    \"\"\"\n",
    "    Apply a output layer to x_tensor using weight and bias\n",
    "    : x_tensor: A 2-D tensor where the first dimension is batch size.\n",
    "    : num_outputs: The number of output that the new tensor should be.\n",
    "    : return: A 2-D tensor where the second dimension is num_outputs.\n",
    "    \"\"\"\n",
    "    shape = [int(x_tensor.get_shape().as_list()[1]), num_outputs]\n",
    "    weight = tf.Variable(tf.random_normal(shape, stddev=0.1))\n",
    "    bias = tf.Variable(tf.zeros(num_outputs))\n",
    "    x = tf.add(tf.matmul(x_tensor, weight), bias)\n",
    "    return x\n",
    "\n",
    "\n",
    "tests.test_output(output)"
   ]
  },
  {
   "cell_type": "markdown",
   "metadata": {
    "deletable": true,
    "editable": true
   },
   "source": [
    "### Create Convolutional Model\n",
    "We implement the function `conv_net` to create a convolutional neural network model. The function takes in a batch of images, `x`, and outputs logits."
   ]
  },
  {
   "cell_type": "code",
   "execution_count": 18,
   "metadata": {
    "collapsed": false,
    "deletable": true,
    "editable": true
   },
   "outputs": [
    {
     "name": "stdout",
     "output_type": "stream",
     "text": [
      "Neural Network Built!\n"
     ]
    }
   ],
   "source": [
    "def conv_net(x, keep_prob):\n",
    "    \"\"\"\n",
    "    Create a convolutional neural network model\n",
    "    : x: Placeholder tensor that holds image data.\n",
    "    : keep_prob: Placeholder tensor that hold dropout keep probability.\n",
    "    : return: Tensor that represents logits\n",
    "    \"\"\"\n",
    "    # Apply Convolution and Max Pool layers\n",
    "    x = conv2d_maxpool(x, 16, (3, 3), (1, 1), (2, 2), (2, 2))\n",
    "    x = conv2d_maxpool(x, 32, (3, 3), (2, 2), (2, 2), (2, 2))\n",
    "    x = conv2d_maxpool(x, 64, (3, 3), (1, 1), (2, 2), (2, 2))\n",
    "\n",
    "    # Apply a Flatten Layer\n",
    "    x = flatten(x)\n",
    "\n",
    "    # Apply Fully Connected Layers\n",
    "    x = fully_conn(x, 256)\n",
    "    x = tf.nn.dropout(x, keep_prob)\n",
    "    x = fully_conn(x, 128)\n",
    "    x = tf.nn.dropout(x, keep_prob)\n",
    "    \n",
    "    # Apply an Output Layer\n",
    "    out = output(x, 10)\n",
    "    \n",
    "    # Return output\n",
    "    return out\n",
    "\n",
    "\n",
    "##############################\n",
    "## Build the Neural Network ##\n",
    "##############################\n",
    "\n",
    "# Remove previous weights, bias, inputs, etc..\n",
    "tf.reset_default_graph()\n",
    "\n",
    "# Inputs\n",
    "x = neural_net_image_input((32, 32, 3))\n",
    "y = neural_net_label_input(10)\n",
    "keep_prob = neural_net_keep_prob_input()\n",
    "\n",
    "# Model\n",
    "logits = conv_net(x, keep_prob)\n",
    "\n",
    "# Name logits Tensor, so that is can be loaded from disk after training\n",
    "logits = tf.identity(logits, name='logits')\n",
    "\n",
    "# Loss and Optimizer\n",
    "cost = tf.reduce_mean(tf.nn.softmax_cross_entropy_with_logits(logits=logits, labels=y))\n",
    "optimizer = tf.train.AdamOptimizer().minimize(cost)\n",
    "\n",
    "# Accuracy\n",
    "correct_pred = tf.equal(tf.argmax(logits, 1), tf.argmax(y, 1))\n",
    "accuracy = tf.reduce_mean(tf.cast(correct_pred, tf.float32), name='accuracy')\n",
    "\n",
    "tests.test_conv_net(conv_net)"
   ]
  },
  {
   "cell_type": "markdown",
   "metadata": {
    "deletable": true,
    "editable": true
   },
   "source": [
    "## Train the Neural Network\n",
    "### Single Optimization\n",
    "We implement the function `train_neural_network` to do a single optimization. The optimization should use `optimizer` to optimize in `session` with a `feed_dict` of the following:\n",
    "* `x` for image input\n",
    "* `y` for labels\n",
    "* `keep_prob` for keep probability for dropout\n",
    "\n",
    "This function will be called for each batch, so `tf.global_variables_initializer()` has already been called."
   ]
  },
  {
   "cell_type": "code",
   "execution_count": 19,
   "metadata": {
    "collapsed": false,
    "deletable": true,
    "editable": true
   },
   "outputs": [
    {
     "name": "stdout",
     "output_type": "stream",
     "text": [
      "Tests Passed\n"
     ]
    }
   ],
   "source": [
    "def train_neural_network(session, optimizer, keep_probability, feature_batch, label_batch):\n",
    "    \"\"\"\n",
    "    Optimize the session on a batch of images and labels\n",
    "    : session: Current TensorFlow session\n",
    "    : optimizer: TensorFlow optimizer function\n",
    "    : keep_probability: keep probability\n",
    "    : feature_batch: Batch of Numpy image data\n",
    "    : label_batch: Batch of Numpy label data\n",
    "    \"\"\"\n",
    "    session.run(optimizer, feed_dict={\n",
    "                x: feature_batch,\n",
    "                y: label_batch,\n",
    "                keep_prob: keep_probability})\n",
    "\n",
    "\n",
    "tests.test_train_nn(train_neural_network)"
   ]
  },
  {
   "cell_type": "markdown",
   "metadata": {
    "deletable": true,
    "editable": true
   },
   "source": [
    "### Show Stats\n",
    "We implement the function `print_stats` to print loss and validation accuracy. We use the global variables `valid_features` and `valid_labels` to calculate validation accuracy. We use a keep probability of `1.0` to calculate the loss and validation accuracy."
   ]
  },
  {
   "cell_type": "code",
   "execution_count": 20,
   "metadata": {
    "collapsed": false,
    "deletable": true,
    "editable": true
   },
   "outputs": [],
   "source": [
    "def print_stats(session, feature_batch, label_batch, cost, accuracy):\n",
    "    \"\"\"\n",
    "    Print information about loss and validation accuracy\n",
    "    : session: Current TensorFlow session\n",
    "    : feature_batch: Batch of Numpy image data\n",
    "    : label_batch: Batch of Numpy label data\n",
    "    : cost: TensorFlow cost function\n",
    "    : accuracy: TensorFlow accuracy function\n",
    "    \"\"\"\n",
    "    loss = session.run(cost, feed_dict={\n",
    "                       x: feature_batch,\n",
    "                       y: label_batch,\n",
    "                       keep_prob: 1.})\n",
    "    \n",
    "    valid_accuracy = session.run(accuracy, feed_dict={\n",
    "                                 x: valid_features,\n",
    "                                 y: valid_labels,\n",
    "                                 keep_prob: 1.})\n",
    "    \n",
    "    print('Loss: {:>10.4f} Validation Accuracy: {:.6f}'.format(loss, valid_accuracy))"
   ]
  },
  {
   "cell_type": "markdown",
   "metadata": {
    "deletable": true,
    "editable": true
   },
   "source": [
    "### Hyperparameters\n",
    "We tune the following parameters:\n",
    "* Set `epochs` to the number of iterations until the network stops learning or start overfitting\n",
    "* Set `batch_size` to the highest number that your machine has memory for.  Most people set them to common sizes of memory:\n",
    " * 64\n",
    " * 128\n",
    " * 256\n",
    " * ...\n",
    "* Set `keep_probability` to the probability of keeping a node using dropout"
   ]
  },
  {
   "cell_type": "code",
   "execution_count": 22,
   "metadata": {
    "collapsed": true,
    "deletable": true,
    "editable": true
   },
   "outputs": [],
   "source": [
    "# Tune Parameters\n",
    "epochs = 50\n",
    "batch_size = 512\n",
    "keep_probability = 0.5"
   ]
  },
  {
   "cell_type": "markdown",
   "metadata": {
    "deletable": true,
    "editable": true
   },
   "source": [
    "### Train on a Single CIFAR-10 Batch\n",
    "Instead of training the neural network on all the CIFAR-10 batches of data, let's use a single batch. This should save time while we iterate on the model to get a better accuracy."
   ]
  },
  {
   "cell_type": "code",
   "execution_count": 23,
   "metadata": {
    "collapsed": false,
    "deletable": true,
    "editable": true
   },
   "outputs": [
    {
     "name": "stdout",
     "output_type": "stream",
     "text": [
      "Checking the Training on a Single Batch...\n",
      "Epoch  1, CIFAR-10 Batch 1:  Loss:     2.2880 Validation Accuracy: 0.176800\n",
      "Epoch  2, CIFAR-10 Batch 1:  Loss:     2.2126 Validation Accuracy: 0.218600\n",
      "Epoch  3, CIFAR-10 Batch 1:  Loss:     2.0291 Validation Accuracy: 0.257000\n",
      "Epoch  4, CIFAR-10 Batch 1:  Loss:     1.9367 Validation Accuracy: 0.308000\n",
      "Epoch  5, CIFAR-10 Batch 1:  Loss:     1.8519 Validation Accuracy: 0.347600\n",
      "Epoch  6, CIFAR-10 Batch 1:  Loss:     1.7925 Validation Accuracy: 0.384400\n",
      "Epoch  7, CIFAR-10 Batch 1:  Loss:     1.7117 Validation Accuracy: 0.387200\n",
      "Epoch  8, CIFAR-10 Batch 1:  Loss:     1.6376 Validation Accuracy: 0.402600\n",
      "Epoch  9, CIFAR-10 Batch 1:  Loss:     1.5901 Validation Accuracy: 0.413400\n",
      "Epoch 10, CIFAR-10 Batch 1:  Loss:     1.5407 Validation Accuracy: 0.434200\n",
      "Epoch 11, CIFAR-10 Batch 1:  Loss:     1.4694 Validation Accuracy: 0.436400\n",
      "Epoch 12, CIFAR-10 Batch 1:  Loss:     1.4374 Validation Accuracy: 0.456600\n",
      "Epoch 13, CIFAR-10 Batch 1:  Loss:     1.3985 Validation Accuracy: 0.457000\n",
      "Epoch 14, CIFAR-10 Batch 1:  Loss:     1.3485 Validation Accuracy: 0.469000\n",
      "Epoch 15, CIFAR-10 Batch 1:  Loss:     1.3096 Validation Accuracy: 0.477200\n",
      "Epoch 16, CIFAR-10 Batch 1:  Loss:     1.2633 Validation Accuracy: 0.480600\n",
      "Epoch 17, CIFAR-10 Batch 1:  Loss:     1.2781 Validation Accuracy: 0.475200\n",
      "Epoch 18, CIFAR-10 Batch 1:  Loss:     1.2102 Validation Accuracy: 0.496800\n",
      "Epoch 19, CIFAR-10 Batch 1:  Loss:     1.1851 Validation Accuracy: 0.490400\n",
      "Epoch 20, CIFAR-10 Batch 1:  Loss:     1.1514 Validation Accuracy: 0.494800\n",
      "Epoch 21, CIFAR-10 Batch 1:  Loss:     1.1311 Validation Accuracy: 0.495400\n",
      "Epoch 22, CIFAR-10 Batch 1:  Loss:     1.1206 Validation Accuracy: 0.488000\n",
      "Epoch 23, CIFAR-10 Batch 1:  Loss:     1.0657 Validation Accuracy: 0.508600\n",
      "Epoch 24, CIFAR-10 Batch 1:  Loss:     1.0504 Validation Accuracy: 0.502600\n",
      "Epoch 25, CIFAR-10 Batch 1:  Loss:     1.0370 Validation Accuracy: 0.504600\n",
      "Epoch 26, CIFAR-10 Batch 1:  Loss:     1.0147 Validation Accuracy: 0.515800\n",
      "Epoch 27, CIFAR-10 Batch 1:  Loss:     0.9827 Validation Accuracy: 0.518400\n",
      "Epoch 28, CIFAR-10 Batch 1:  Loss:     0.9465 Validation Accuracy: 0.526600\n",
      "Epoch 29, CIFAR-10 Batch 1:  Loss:     0.9595 Validation Accuracy: 0.520600\n",
      "Epoch 30, CIFAR-10 Batch 1:  Loss:     0.9448 Validation Accuracy: 0.519200\n",
      "Epoch 31, CIFAR-10 Batch 1:  Loss:     0.8904 Validation Accuracy: 0.545800\n",
      "Epoch 32, CIFAR-10 Batch 1:  Loss:     0.8583 Validation Accuracy: 0.531400\n",
      "Epoch 33, CIFAR-10 Batch 1:  Loss:     0.8471 Validation Accuracy: 0.536600\n",
      "Epoch 34, CIFAR-10 Batch 1:  Loss:     0.8182 Validation Accuracy: 0.540400\n",
      "Epoch 35, CIFAR-10 Batch 1:  Loss:     0.8178 Validation Accuracy: 0.536400\n",
      "Epoch 36, CIFAR-10 Batch 1:  Loss:     0.7852 Validation Accuracy: 0.543000\n",
      "Epoch 37, CIFAR-10 Batch 1:  Loss:     0.7655 Validation Accuracy: 0.543800\n",
      "Epoch 38, CIFAR-10 Batch 1:  Loss:     0.7525 Validation Accuracy: 0.539600\n",
      "Epoch 39, CIFAR-10 Batch 1:  Loss:     0.7173 Validation Accuracy: 0.549600\n",
      "Epoch 40, CIFAR-10 Batch 1:  Loss:     0.7030 Validation Accuracy: 0.554000\n",
      "Epoch 41, CIFAR-10 Batch 1:  Loss:     0.6912 Validation Accuracy: 0.542200\n",
      "Epoch 42, CIFAR-10 Batch 1:  Loss:     0.6778 Validation Accuracy: 0.538800\n",
      "Epoch 43, CIFAR-10 Batch 1:  Loss:     0.6418 Validation Accuracy: 0.555400\n",
      "Epoch 44, CIFAR-10 Batch 1:  Loss:     0.6344 Validation Accuracy: 0.555000\n",
      "Epoch 45, CIFAR-10 Batch 1:  Loss:     0.6259 Validation Accuracy: 0.546800\n",
      "Epoch 46, CIFAR-10 Batch 1:  Loss:     0.6420 Validation Accuracy: 0.545000\n",
      "Epoch 47, CIFAR-10 Batch 1:  Loss:     0.5934 Validation Accuracy: 0.551400\n",
      "Epoch 48, CIFAR-10 Batch 1:  Loss:     0.6022 Validation Accuracy: 0.542400\n",
      "Epoch 49, CIFAR-10 Batch 1:  Loss:     0.5609 Validation Accuracy: 0.556200\n",
      "Epoch 50, CIFAR-10 Batch 1:  Loss:     0.5517 Validation Accuracy: 0.553400\n"
     ]
    }
   ],
   "source": [
    "print('Checking the Training on a Single Batch...')\n",
    "with tf.Session() as sess:\n",
    "    # Initializing the variables\n",
    "    sess.run(tf.global_variables_initializer())\n",
    "    \n",
    "    # Training cycle\n",
    "    for epoch in range(epochs):\n",
    "        batch_i = 1\n",
    "        for batch_features, batch_labels in helper.load_preprocess_training_batch(batch_i, batch_size):\n",
    "            train_neural_network(sess, optimizer, keep_probability, batch_features, batch_labels)\n",
    "        print('Epoch {:>2}, CIFAR-10 Batch {}:  '.format(epoch + 1, batch_i), end='')\n",
    "        print_stats(sess, batch_features, batch_labels, cost, accuracy)"
   ]
  },
  {
   "cell_type": "markdown",
   "metadata": {
    "deletable": true,
    "editable": true
   },
   "source": [
    "### Fully Train the Model\n",
    "Now that we got a good accuracy with a single CIFAR-10 batch, let's try it with all five batches."
   ]
  },
  {
   "cell_type": "code",
   "execution_count": 24,
   "metadata": {
    "collapsed": false,
    "deletable": true,
    "editable": true,
    "scrolled": false
   },
   "outputs": [
    {
     "name": "stdout",
     "output_type": "stream",
     "text": [
      "Training...\n",
      "Epoch  1, CIFAR-10 Batch 1:  Loss:     2.2768 Validation Accuracy: 0.188000\n",
      "Epoch  1, CIFAR-10 Batch 2:  Loss:     2.1277 Validation Accuracy: 0.269400\n",
      "Epoch  1, CIFAR-10 Batch 3:  Loss:     2.0150 Validation Accuracy: 0.270600\n",
      "Epoch  1, CIFAR-10 Batch 4:  Loss:     1.8791 Validation Accuracy: 0.302200\n",
      "Epoch  1, CIFAR-10 Batch 5:  Loss:     1.8361 Validation Accuracy: 0.350000\n",
      "Epoch  2, CIFAR-10 Batch 1:  Loss:     1.8494 Validation Accuracy: 0.359200\n",
      "Epoch  2, CIFAR-10 Batch 2:  Loss:     1.7264 Validation Accuracy: 0.373000\n",
      "Epoch  2, CIFAR-10 Batch 3:  Loss:     1.5457 Validation Accuracy: 0.401000\n",
      "Epoch  2, CIFAR-10 Batch 4:  Loss:     1.5248 Validation Accuracy: 0.413200\n",
      "Epoch  2, CIFAR-10 Batch 5:  Loss:     1.5556 Validation Accuracy: 0.422200\n",
      "Epoch  3, CIFAR-10 Batch 1:  Loss:     1.5950 Validation Accuracy: 0.433400\n",
      "Epoch  3, CIFAR-10 Batch 2:  Loss:     1.5601 Validation Accuracy: 0.449000\n",
      "Epoch  3, CIFAR-10 Batch 3:  Loss:     1.3426 Validation Accuracy: 0.454800\n",
      "Epoch  3, CIFAR-10 Batch 4:  Loss:     1.4032 Validation Accuracy: 0.458000\n",
      "Epoch  3, CIFAR-10 Batch 5:  Loss:     1.4066 Validation Accuracy: 0.459200\n",
      "Epoch  4, CIFAR-10 Batch 1:  Loss:     1.4806 Validation Accuracy: 0.467400\n",
      "Epoch  4, CIFAR-10 Batch 2:  Loss:     1.4465 Validation Accuracy: 0.473800\n",
      "Epoch  4, CIFAR-10 Batch 3:  Loss:     1.2451 Validation Accuracy: 0.475400\n",
      "Epoch  4, CIFAR-10 Batch 4:  Loss:     1.3068 Validation Accuracy: 0.491800\n",
      "Epoch  4, CIFAR-10 Batch 5:  Loss:     1.2993 Validation Accuracy: 0.500600\n",
      "Epoch  5, CIFAR-10 Batch 1:  Loss:     1.3716 Validation Accuracy: 0.504200\n",
      "Epoch  5, CIFAR-10 Batch 2:  Loss:     1.3621 Validation Accuracy: 0.508000\n",
      "Epoch  5, CIFAR-10 Batch 3:  Loss:     1.1730 Validation Accuracy: 0.506400\n",
      "Epoch  5, CIFAR-10 Batch 4:  Loss:     1.2273 Validation Accuracy: 0.513200\n",
      "Epoch  5, CIFAR-10 Batch 5:  Loss:     1.2541 Validation Accuracy: 0.516800\n",
      "Epoch  6, CIFAR-10 Batch 1:  Loss:     1.3358 Validation Accuracy: 0.517400\n",
      "Epoch  6, CIFAR-10 Batch 2:  Loss:     1.2803 Validation Accuracy: 0.522400\n",
      "Epoch  6, CIFAR-10 Batch 3:  Loss:     1.1117 Validation Accuracy: 0.525200\n",
      "Epoch  6, CIFAR-10 Batch 4:  Loss:     1.1633 Validation Accuracy: 0.528800\n",
      "Epoch  6, CIFAR-10 Batch 5:  Loss:     1.1971 Validation Accuracy: 0.537400\n",
      "Epoch  7, CIFAR-10 Batch 1:  Loss:     1.2880 Validation Accuracy: 0.532400\n",
      "Epoch  7, CIFAR-10 Batch 2:  Loss:     1.2563 Validation Accuracy: 0.527600\n",
      "Epoch  7, CIFAR-10 Batch 3:  Loss:     1.0726 Validation Accuracy: 0.530400\n",
      "Epoch  7, CIFAR-10 Batch 4:  Loss:     1.1126 Validation Accuracy: 0.542200\n",
      "Epoch  7, CIFAR-10 Batch 5:  Loss:     1.1612 Validation Accuracy: 0.542600\n",
      "Epoch  8, CIFAR-10 Batch 1:  Loss:     1.2167 Validation Accuracy: 0.553400\n",
      "Epoch  8, CIFAR-10 Batch 2:  Loss:     1.1911 Validation Accuracy: 0.539600\n",
      "Epoch  8, CIFAR-10 Batch 3:  Loss:     1.0320 Validation Accuracy: 0.547000\n",
      "Epoch  8, CIFAR-10 Batch 4:  Loss:     1.0509 Validation Accuracy: 0.556800\n",
      "Epoch  8, CIFAR-10 Batch 5:  Loss:     1.1201 Validation Accuracy: 0.554800\n",
      "Epoch  9, CIFAR-10 Batch 1:  Loss:     1.1863 Validation Accuracy: 0.561600\n",
      "Epoch  9, CIFAR-10 Batch 2:  Loss:     1.1617 Validation Accuracy: 0.549600\n",
      "Epoch  9, CIFAR-10 Batch 3:  Loss:     1.0290 Validation Accuracy: 0.533600\n",
      "Epoch  9, CIFAR-10 Batch 4:  Loss:     1.0187 Validation Accuracy: 0.563000\n",
      "Epoch  9, CIFAR-10 Batch 5:  Loss:     1.0888 Validation Accuracy: 0.565800\n",
      "Epoch 10, CIFAR-10 Batch 1:  Loss:     1.1469 Validation Accuracy: 0.568400\n",
      "Epoch 10, CIFAR-10 Batch 2:  Loss:     1.0987 Validation Accuracy: 0.562800\n",
      "Epoch 10, CIFAR-10 Batch 3:  Loss:     0.9650 Validation Accuracy: 0.559000\n",
      "Epoch 10, CIFAR-10 Batch 4:  Loss:     0.9693 Validation Accuracy: 0.573400\n",
      "Epoch 10, CIFAR-10 Batch 5:  Loss:     1.0402 Validation Accuracy: 0.565200\n",
      "Epoch 11, CIFAR-10 Batch 1:  Loss:     1.1172 Validation Accuracy: 0.570200\n",
      "Epoch 11, CIFAR-10 Batch 2:  Loss:     1.0834 Validation Accuracy: 0.562200\n",
      "Epoch 11, CIFAR-10 Batch 3:  Loss:     0.9397 Validation Accuracy: 0.562200\n",
      "Epoch 11, CIFAR-10 Batch 4:  Loss:     0.9420 Validation Accuracy: 0.580600\n",
      "Epoch 11, CIFAR-10 Batch 5:  Loss:     1.0204 Validation Accuracy: 0.573000\n",
      "Epoch 12, CIFAR-10 Batch 1:  Loss:     1.1142 Validation Accuracy: 0.563600\n",
      "Epoch 12, CIFAR-10 Batch 2:  Loss:     1.0463 Validation Accuracy: 0.578200\n",
      "Epoch 12, CIFAR-10 Batch 3:  Loss:     0.8867 Validation Accuracy: 0.578800\n",
      "Epoch 12, CIFAR-10 Batch 4:  Loss:     0.9240 Validation Accuracy: 0.586200\n",
      "Epoch 12, CIFAR-10 Batch 5:  Loss:     0.9787 Validation Accuracy: 0.577400\n",
      "Epoch 13, CIFAR-10 Batch 1:  Loss:     1.0822 Validation Accuracy: 0.575000\n",
      "Epoch 13, CIFAR-10 Batch 2:  Loss:     1.0241 Validation Accuracy: 0.584800\n",
      "Epoch 13, CIFAR-10 Batch 3:  Loss:     0.8622 Validation Accuracy: 0.579400\n",
      "Epoch 13, CIFAR-10 Batch 4:  Loss:     0.8821 Validation Accuracy: 0.589600\n",
      "Epoch 13, CIFAR-10 Batch 5:  Loss:     0.9391 Validation Accuracy: 0.586600\n",
      "Epoch 14, CIFAR-10 Batch 1:  Loss:     1.0307 Validation Accuracy: 0.584800\n",
      "Epoch 14, CIFAR-10 Batch 2:  Loss:     0.9779 Validation Accuracy: 0.583600\n",
      "Epoch 14, CIFAR-10 Batch 3:  Loss:     0.8524 Validation Accuracy: 0.575800\n",
      "Epoch 14, CIFAR-10 Batch 4:  Loss:     0.8715 Validation Accuracy: 0.587000\n",
      "Epoch 14, CIFAR-10 Batch 5:  Loss:     0.9341 Validation Accuracy: 0.588600\n",
      "Epoch 15, CIFAR-10 Batch 1:  Loss:     0.9965 Validation Accuracy: 0.596000\n",
      "Epoch 15, CIFAR-10 Batch 2:  Loss:     0.9579 Validation Accuracy: 0.590200\n",
      "Epoch 15, CIFAR-10 Batch 3:  Loss:     0.7987 Validation Accuracy: 0.592800\n",
      "Epoch 15, CIFAR-10 Batch 4:  Loss:     0.8543 Validation Accuracy: 0.591800\n",
      "Epoch 15, CIFAR-10 Batch 5:  Loss:     0.8939 Validation Accuracy: 0.589600\n",
      "Epoch 16, CIFAR-10 Batch 1:  Loss:     0.9655 Validation Accuracy: 0.593600\n",
      "Epoch 16, CIFAR-10 Batch 2:  Loss:     0.9201 Validation Accuracy: 0.598000\n",
      "Epoch 16, CIFAR-10 Batch 3:  Loss:     0.7864 Validation Accuracy: 0.598800\n",
      "Epoch 16, CIFAR-10 Batch 4:  Loss:     0.8278 Validation Accuracy: 0.602200\n",
      "Epoch 16, CIFAR-10 Batch 5:  Loss:     0.8635 Validation Accuracy: 0.598400\n",
      "Epoch 17, CIFAR-10 Batch 1:  Loss:     0.9469 Validation Accuracy: 0.592400\n",
      "Epoch 17, CIFAR-10 Batch 2:  Loss:     0.9095 Validation Accuracy: 0.595200\n",
      "Epoch 17, CIFAR-10 Batch 3:  Loss:     0.7630 Validation Accuracy: 0.604000\n",
      "Epoch 17, CIFAR-10 Batch 4:  Loss:     0.8022 Validation Accuracy: 0.606200\n",
      "Epoch 17, CIFAR-10 Batch 5:  Loss:     0.8257 Validation Accuracy: 0.607400\n",
      "Epoch 18, CIFAR-10 Batch 1:  Loss:     0.9393 Validation Accuracy: 0.609400\n",
      "Epoch 18, CIFAR-10 Batch 2:  Loss:     0.8657 Validation Accuracy: 0.600600\n",
      "Epoch 18, CIFAR-10 Batch 3:  Loss:     0.7318 Validation Accuracy: 0.613800\n",
      "Epoch 18, CIFAR-10 Batch 4:  Loss:     0.7834 Validation Accuracy: 0.614800\n",
      "Epoch 18, CIFAR-10 Batch 5:  Loss:     0.8281 Validation Accuracy: 0.607800\n",
      "Epoch 19, CIFAR-10 Batch 1:  Loss:     0.9064 Validation Accuracy: 0.610000\n",
      "Epoch 19, CIFAR-10 Batch 2:  Loss:     0.8520 Validation Accuracy: 0.605800\n",
      "Epoch 19, CIFAR-10 Batch 3:  Loss:     0.7087 Validation Accuracy: 0.610400\n",
      "Epoch 19, CIFAR-10 Batch 4:  Loss:     0.7515 Validation Accuracy: 0.610200\n",
      "Epoch 19, CIFAR-10 Batch 5:  Loss:     0.8014 Validation Accuracy: 0.611600\n",
      "Epoch 20, CIFAR-10 Batch 1:  Loss:     0.8842 Validation Accuracy: 0.616200\n",
      "Epoch 20, CIFAR-10 Batch 2:  Loss:     0.8271 Validation Accuracy: 0.614000\n",
      "Epoch 20, CIFAR-10 Batch 3:  Loss:     0.7177 Validation Accuracy: 0.607200\n",
      "Epoch 20, CIFAR-10 Batch 4:  Loss:     0.7497 Validation Accuracy: 0.612000\n",
      "Epoch 20, CIFAR-10 Batch 5:  Loss:     0.7774 Validation Accuracy: 0.614600\n",
      "Epoch 21, CIFAR-10 Batch 1:  Loss:     0.8739 Validation Accuracy: 0.617400\n",
      "Epoch 21, CIFAR-10 Batch 2:  Loss:     0.8193 Validation Accuracy: 0.614400\n",
      "Epoch 21, CIFAR-10 Batch 3:  Loss:     0.6888 Validation Accuracy: 0.614200\n",
      "Epoch 21, CIFAR-10 Batch 4:  Loss:     0.7450 Validation Accuracy: 0.610200\n",
      "Epoch 21, CIFAR-10 Batch 5:  Loss:     0.7717 Validation Accuracy: 0.618400\n",
      "Epoch 22, CIFAR-10 Batch 1:  Loss:     0.8614 Validation Accuracy: 0.619000\n",
      "Epoch 22, CIFAR-10 Batch 2:  Loss:     0.7834 Validation Accuracy: 0.617200\n",
      "Epoch 22, CIFAR-10 Batch 3:  Loss:     0.6754 Validation Accuracy: 0.619800\n",
      "Epoch 22, CIFAR-10 Batch 4:  Loss:     0.7123 Validation Accuracy: 0.606600\n",
      "Epoch 22, CIFAR-10 Batch 5:  Loss:     0.7411 Validation Accuracy: 0.622000\n",
      "Epoch 23, CIFAR-10 Batch 1:  Loss:     0.7962 Validation Accuracy: 0.615200\n",
      "Epoch 23, CIFAR-10 Batch 2:  Loss:     0.7860 Validation Accuracy: 0.616200\n",
      "Epoch 23, CIFAR-10 Batch 3:  Loss:     0.6511 Validation Accuracy: 0.624400\n",
      "Epoch 23, CIFAR-10 Batch 4:  Loss:     0.6676 Validation Accuracy: 0.628000\n",
      "Epoch 23, CIFAR-10 Batch 5:  Loss:     0.7184 Validation Accuracy: 0.623200\n",
      "Epoch 24, CIFAR-10 Batch 1:  Loss:     0.7966 Validation Accuracy: 0.627200\n",
      "Epoch 24, CIFAR-10 Batch 2:  Loss:     0.7654 Validation Accuracy: 0.625000\n",
      "Epoch 24, CIFAR-10 Batch 3:  Loss:     0.6280 Validation Accuracy: 0.630600\n",
      "Epoch 24, CIFAR-10 Batch 4:  Loss:     0.6744 Validation Accuracy: 0.622400\n",
      "Epoch 24, CIFAR-10 Batch 5:  Loss:     0.7110 Validation Accuracy: 0.622200\n",
      "Epoch 25, CIFAR-10 Batch 1:  Loss:     0.7663 Validation Accuracy: 0.616000\n",
      "Epoch 25, CIFAR-10 Batch 2:  Loss:     0.7781 Validation Accuracy: 0.606200\n",
      "Epoch 25, CIFAR-10 Batch 3:  Loss:     0.6331 Validation Accuracy: 0.628800\n",
      "Epoch 25, CIFAR-10 Batch 4:  Loss:     0.6533 Validation Accuracy: 0.633800\n",
      "Epoch 25, CIFAR-10 Batch 5:  Loss:     0.6988 Validation Accuracy: 0.627800\n",
      "Epoch 26, CIFAR-10 Batch 1:  Loss:     0.7494 Validation Accuracy: 0.619200\n",
      "Epoch 26, CIFAR-10 Batch 2:  Loss:     0.7696 Validation Accuracy: 0.611200\n",
      "Epoch 26, CIFAR-10 Batch 3:  Loss:     0.6192 Validation Accuracy: 0.631400\n",
      "Epoch 26, CIFAR-10 Batch 4:  Loss:     0.6306 Validation Accuracy: 0.633200\n",
      "Epoch 26, CIFAR-10 Batch 5:  Loss:     0.6963 Validation Accuracy: 0.625800\n",
      "Epoch 27, CIFAR-10 Batch 1:  Loss:     0.7164 Validation Accuracy: 0.622600\n",
      "Epoch 27, CIFAR-10 Batch 2:  Loss:     0.7685 Validation Accuracy: 0.600000\n",
      "Epoch 27, CIFAR-10 Batch 3:  Loss:     0.6222 Validation Accuracy: 0.628200\n",
      "Epoch 27, CIFAR-10 Batch 4:  Loss:     0.6002 Validation Accuracy: 0.636000\n",
      "Epoch 27, CIFAR-10 Batch 5:  Loss:     0.6715 Validation Accuracy: 0.630000\n",
      "Epoch 28, CIFAR-10 Batch 1:  Loss:     0.7065 Validation Accuracy: 0.622200\n",
      "Epoch 28, CIFAR-10 Batch 2:  Loss:     0.7378 Validation Accuracy: 0.610200\n",
      "Epoch 28, CIFAR-10 Batch 3:  Loss:     0.5826 Validation Accuracy: 0.635000\n",
      "Epoch 28, CIFAR-10 Batch 4:  Loss:     0.6337 Validation Accuracy: 0.628200\n",
      "Epoch 28, CIFAR-10 Batch 5:  Loss:     0.6553 Validation Accuracy: 0.636200\n",
      "Epoch 29, CIFAR-10 Batch 1:  Loss:     0.7005 Validation Accuracy: 0.626800\n",
      "Epoch 29, CIFAR-10 Batch 2:  Loss:     0.7232 Validation Accuracy: 0.617800\n",
      "Epoch 29, CIFAR-10 Batch 3:  Loss:     0.5706 Validation Accuracy: 0.635200\n",
      "Epoch 29, CIFAR-10 Batch 4:  Loss:     0.6131 Validation Accuracy: 0.630200\n",
      "Epoch 29, CIFAR-10 Batch 5:  Loss:     0.6329 Validation Accuracy: 0.627200\n",
      "Epoch 30, CIFAR-10 Batch 1:  Loss:     0.6868 Validation Accuracy: 0.614400\n",
      "Epoch 30, CIFAR-10 Batch 2:  Loss:     0.7027 Validation Accuracy: 0.618000\n",
      "Epoch 30, CIFAR-10 Batch 3:  Loss:     0.5547 Validation Accuracy: 0.640800\n",
      "Epoch 30, CIFAR-10 Batch 4:  Loss:     0.5887 Validation Accuracy: 0.638800\n",
      "Epoch 30, CIFAR-10 Batch 5:  Loss:     0.6322 Validation Accuracy: 0.638200\n",
      "Epoch 31, CIFAR-10 Batch 1:  Loss:     0.6661 Validation Accuracy: 0.617800\n",
      "Epoch 31, CIFAR-10 Batch 2:  Loss:     0.6836 Validation Accuracy: 0.622200\n",
      "Epoch 31, CIFAR-10 Batch 3:  Loss:     0.5568 Validation Accuracy: 0.631400\n",
      "Epoch 31, CIFAR-10 Batch 4:  Loss:     0.6012 Validation Accuracy: 0.631600\n",
      "Epoch 31, CIFAR-10 Batch 5:  Loss:     0.6303 Validation Accuracy: 0.629800\n",
      "Epoch 32, CIFAR-10 Batch 1:  Loss:     0.7010 Validation Accuracy: 0.607200\n",
      "Epoch 32, CIFAR-10 Batch 2:  Loss:     0.6434 Validation Accuracy: 0.641600\n",
      "Epoch 32, CIFAR-10 Batch 3:  Loss:     0.5385 Validation Accuracy: 0.642400\n",
      "Epoch 32, CIFAR-10 Batch 4:  Loss:     0.6056 Validation Accuracy: 0.631600\n",
      "Epoch 32, CIFAR-10 Batch 5:  Loss:     0.6010 Validation Accuracy: 0.637800\n",
      "Epoch 33, CIFAR-10 Batch 1:  Loss:     0.6469 Validation Accuracy: 0.616600\n",
      "Epoch 33, CIFAR-10 Batch 2:  Loss:     0.6233 Validation Accuracy: 0.640400\n",
      "Epoch 33, CIFAR-10 Batch 3:  Loss:     0.5311 Validation Accuracy: 0.637000\n",
      "Epoch 33, CIFAR-10 Batch 4:  Loss:     0.5532 Validation Accuracy: 0.644400\n",
      "Epoch 33, CIFAR-10 Batch 5:  Loss:     0.5795 Validation Accuracy: 0.642400\n",
      "Epoch 34, CIFAR-10 Batch 1:  Loss:     0.6191 Validation Accuracy: 0.624600\n",
      "Epoch 34, CIFAR-10 Batch 2:  Loss:     0.6201 Validation Accuracy: 0.636000\n",
      "Epoch 34, CIFAR-10 Batch 3:  Loss:     0.5021 Validation Accuracy: 0.645200\n",
      "Epoch 34, CIFAR-10 Batch 4:  Loss:     0.5632 Validation Accuracy: 0.641400\n",
      "Epoch 34, CIFAR-10 Batch 5:  Loss:     0.5792 Validation Accuracy: 0.642200\n",
      "Epoch 35, CIFAR-10 Batch 1:  Loss:     0.6183 Validation Accuracy: 0.625800\n",
      "Epoch 35, CIFAR-10 Batch 2:  Loss:     0.6084 Validation Accuracy: 0.635600\n",
      "Epoch 35, CIFAR-10 Batch 3:  Loss:     0.4915 Validation Accuracy: 0.648600\n",
      "Epoch 35, CIFAR-10 Batch 4:  Loss:     0.5317 Validation Accuracy: 0.643800\n",
      "Epoch 35, CIFAR-10 Batch 5:  Loss:     0.5480 Validation Accuracy: 0.644200\n",
      "Epoch 36, CIFAR-10 Batch 1:  Loss:     0.6183 Validation Accuracy: 0.620400\n",
      "Epoch 36, CIFAR-10 Batch 2:  Loss:     0.5995 Validation Accuracy: 0.636400\n",
      "Epoch 36, CIFAR-10 Batch 3:  Loss:     0.4718 Validation Accuracy: 0.649000\n",
      "Epoch 36, CIFAR-10 Batch 4:  Loss:     0.5246 Validation Accuracy: 0.648800\n",
      "Epoch 36, CIFAR-10 Batch 5:  Loss:     0.5531 Validation Accuracy: 0.639200\n",
      "Epoch 37, CIFAR-10 Batch 1:  Loss:     0.5761 Validation Accuracy: 0.633800\n",
      "Epoch 37, CIFAR-10 Batch 2:  Loss:     0.5669 Validation Accuracy: 0.649200\n",
      "Epoch 37, CIFAR-10 Batch 3:  Loss:     0.4821 Validation Accuracy: 0.647000\n",
      "Epoch 37, CIFAR-10 Batch 4:  Loss:     0.5297 Validation Accuracy: 0.645200\n",
      "Epoch 37, CIFAR-10 Batch 5:  Loss:     0.5535 Validation Accuracy: 0.640200\n",
      "Epoch 38, CIFAR-10 Batch 1:  Loss:     0.6055 Validation Accuracy: 0.622600\n",
      "Epoch 38, CIFAR-10 Batch 2:  Loss:     0.5719 Validation Accuracy: 0.641200\n",
      "Epoch 38, CIFAR-10 Batch 3:  Loss:     0.4690 Validation Accuracy: 0.640000\n",
      "Epoch 38, CIFAR-10 Batch 4:  Loss:     0.5031 Validation Accuracy: 0.647600\n",
      "Epoch 38, CIFAR-10 Batch 5:  Loss:     0.5186 Validation Accuracy: 0.639800\n",
      "Epoch 39, CIFAR-10 Batch 1:  Loss:     0.5863 Validation Accuracy: 0.620800\n",
      "Epoch 39, CIFAR-10 Batch 2:  Loss:     0.5803 Validation Accuracy: 0.651200\n",
      "Epoch 39, CIFAR-10 Batch 3:  Loss:     0.4974 Validation Accuracy: 0.631400\n",
      "Epoch 39, CIFAR-10 Batch 4:  Loss:     0.5118 Validation Accuracy: 0.637000\n",
      "Epoch 39, CIFAR-10 Batch 5:  Loss:     0.5412 Validation Accuracy: 0.641800\n",
      "Epoch 40, CIFAR-10 Batch 1:  Loss:     0.5724 Validation Accuracy: 0.642400\n",
      "Epoch 40, CIFAR-10 Batch 2:  Loss:     0.5696 Validation Accuracy: 0.648800\n",
      "Epoch 40, CIFAR-10 Batch 3:  Loss:     0.4512 Validation Accuracy: 0.647200\n",
      "Epoch 40, CIFAR-10 Batch 4:  Loss:     0.4743 Validation Accuracy: 0.649600\n",
      "Epoch 40, CIFAR-10 Batch 5:  Loss:     0.5250 Validation Accuracy: 0.648400\n",
      "Epoch 41, CIFAR-10 Batch 1:  Loss:     0.5288 Validation Accuracy: 0.650000\n",
      "Epoch 41, CIFAR-10 Batch 2:  Loss:     0.5419 Validation Accuracy: 0.646400\n",
      "Epoch 41, CIFAR-10 Batch 3:  Loss:     0.4451 Validation Accuracy: 0.651400\n",
      "Epoch 41, CIFAR-10 Batch 4:  Loss:     0.4669 Validation Accuracy: 0.641600\n",
      "Epoch 41, CIFAR-10 Batch 5:  Loss:     0.5050 Validation Accuracy: 0.646200\n",
      "Epoch 42, CIFAR-10 Batch 1:  Loss:     0.5307 Validation Accuracy: 0.645800\n",
      "Epoch 42, CIFAR-10 Batch 2:  Loss:     0.5408 Validation Accuracy: 0.647400\n",
      "Epoch 42, CIFAR-10 Batch 3:  Loss:     0.4251 Validation Accuracy: 0.648000\n",
      "Epoch 42, CIFAR-10 Batch 4:  Loss:     0.4609 Validation Accuracy: 0.645200\n",
      "Epoch 42, CIFAR-10 Batch 5:  Loss:     0.5021 Validation Accuracy: 0.644800\n",
      "Epoch 43, CIFAR-10 Batch 1:  Loss:     0.5179 Validation Accuracy: 0.649200\n",
      "Epoch 43, CIFAR-10 Batch 2:  Loss:     0.5480 Validation Accuracy: 0.644800\n",
      "Epoch 43, CIFAR-10 Batch 3:  Loss:     0.4541 Validation Accuracy: 0.637400\n",
      "Epoch 43, CIFAR-10 Batch 4:  Loss:     0.4657 Validation Accuracy: 0.637800\n",
      "Epoch 43, CIFAR-10 Batch 5:  Loss:     0.4937 Validation Accuracy: 0.639800\n",
      "Epoch 44, CIFAR-10 Batch 1:  Loss:     0.5279 Validation Accuracy: 0.648800\n",
      "Epoch 44, CIFAR-10 Batch 2:  Loss:     0.5234 Validation Accuracy: 0.640200\n",
      "Epoch 44, CIFAR-10 Batch 3:  Loss:     0.4049 Validation Accuracy: 0.656200\n",
      "Epoch 44, CIFAR-10 Batch 4:  Loss:     0.4609 Validation Accuracy: 0.627600\n",
      "Epoch 44, CIFAR-10 Batch 5:  Loss:     0.4895 Validation Accuracy: 0.647200\n",
      "Epoch 45, CIFAR-10 Batch 1:  Loss:     0.5220 Validation Accuracy: 0.645000\n",
      "Epoch 45, CIFAR-10 Batch 2:  Loss:     0.5427 Validation Accuracy: 0.643600\n",
      "Epoch 45, CIFAR-10 Batch 3:  Loss:     0.4155 Validation Accuracy: 0.652000\n",
      "Epoch 45, CIFAR-10 Batch 4:  Loss:     0.4445 Validation Accuracy: 0.637600\n",
      "Epoch 45, CIFAR-10 Batch 5:  Loss:     0.4813 Validation Accuracy: 0.646800\n",
      "Epoch 46, CIFAR-10 Batch 1:  Loss:     0.4856 Validation Accuracy: 0.644200\n",
      "Epoch 46, CIFAR-10 Batch 2:  Loss:     0.5116 Validation Accuracy: 0.647800\n",
      "Epoch 46, CIFAR-10 Batch 3:  Loss:     0.4046 Validation Accuracy: 0.656000\n",
      "Epoch 46, CIFAR-10 Batch 4:  Loss:     0.4597 Validation Accuracy: 0.631800\n",
      "Epoch 46, CIFAR-10 Batch 5:  Loss:     0.4905 Validation Accuracy: 0.639200\n",
      "Epoch 47, CIFAR-10 Batch 1:  Loss:     0.4969 Validation Accuracy: 0.642400\n",
      "Epoch 47, CIFAR-10 Batch 2:  Loss:     0.5136 Validation Accuracy: 0.645600\n",
      "Epoch 47, CIFAR-10 Batch 3:  Loss:     0.3907 Validation Accuracy: 0.657000\n",
      "Epoch 47, CIFAR-10 Batch 4:  Loss:     0.4468 Validation Accuracy: 0.639200\n",
      "Epoch 47, CIFAR-10 Batch 5:  Loss:     0.4509 Validation Accuracy: 0.650000\n",
      "Epoch 48, CIFAR-10 Batch 1:  Loss:     0.5007 Validation Accuracy: 0.649400\n",
      "Epoch 48, CIFAR-10 Batch 2:  Loss:     0.5043 Validation Accuracy: 0.646600\n",
      "Epoch 48, CIFAR-10 Batch 3:  Loss:     0.3891 Validation Accuracy: 0.649000\n",
      "Epoch 48, CIFAR-10 Batch 4:  Loss:     0.4271 Validation Accuracy: 0.639400\n",
      "Epoch 48, CIFAR-10 Batch 5:  Loss:     0.4462 Validation Accuracy: 0.644200\n",
      "Epoch 49, CIFAR-10 Batch 1:  Loss:     0.4926 Validation Accuracy: 0.646800\n",
      "Epoch 49, CIFAR-10 Batch 2:  Loss:     0.4866 Validation Accuracy: 0.655400\n",
      "Epoch 49, CIFAR-10 Batch 3:  Loss:     0.4079 Validation Accuracy: 0.646600\n",
      "Epoch 49, CIFAR-10 Batch 4:  Loss:     0.4572 Validation Accuracy: 0.628600\n",
      "Epoch 49, CIFAR-10 Batch 5:  Loss:     0.4353 Validation Accuracy: 0.647800\n",
      "Epoch 50, CIFAR-10 Batch 1:  Loss:     0.4849 Validation Accuracy: 0.653800\n",
      "Epoch 50, CIFAR-10 Batch 2:  Loss:     0.4709 Validation Accuracy: 0.653600\n",
      "Epoch 50, CIFAR-10 Batch 3:  Loss:     0.4278 Validation Accuracy: 0.631400\n",
      "Epoch 50, CIFAR-10 Batch 4:  Loss:     0.4268 Validation Accuracy: 0.641600\n",
      "Epoch 50, CIFAR-10 Batch 5:  Loss:     0.4448 Validation Accuracy: 0.647600\n"
     ]
    }
   ],
   "source": [
    "save_model_path = './image_classification'\n",
    "\n",
    "print('Training...')\n",
    "with tf.Session() as sess:\n",
    "    # Initializing the variables\n",
    "    sess.run(tf.global_variables_initializer())\n",
    "    \n",
    "    # Training cycle\n",
    "    for epoch in range(epochs):\n",
    "        # Loop over all batches\n",
    "        n_batches = 5\n",
    "        for batch_i in range(1, n_batches + 1):\n",
    "            for batch_features, batch_labels in helper.load_preprocess_training_batch(batch_i, batch_size):\n",
    "                train_neural_network(sess, optimizer, keep_probability, batch_features, batch_labels)\n",
    "            print('Epoch {:>2}, CIFAR-10 Batch {}:  '.format(epoch + 1, batch_i), end='')\n",
    "            print_stats(sess, batch_features, batch_labels, cost, accuracy)\n",
    "            \n",
    "    # Save Model\n",
    "    saver = tf.train.Saver()\n",
    "    save_path = saver.save(sess, save_model_path)"
   ]
  },
  {
   "cell_type": "markdown",
   "metadata": {
    "deletable": true,
    "editable": true
   },
   "source": [
    "# Checkpoint\n",
    "The model has been saved to disk.\n",
    "## Test Model\n",
    "Test our model against the test dataset.  This will be our final accuracy."
   ]
  },
  {
   "cell_type": "code",
   "execution_count": 25,
   "metadata": {
    "collapsed": false,
    "deletable": true,
    "editable": true
   },
   "outputs": [
    {
     "name": "stdout",
     "output_type": "stream",
     "text": [
      "Testing Accuracy: 0.6372357547283173\n",
      "\n"
     ]
    },
    {
     "data": {
      "image/png": "[encoded data removed]",
      "text/plain": [
       "<matplotlib.figure.Figure at 0x1aed80442b0>"
      ]
     },
     "metadata": {
      "image/png": {
       "height": 319,
       "width": 355
      }
     },
     "output_type": "display_data"
    }
   ],
   "source": [
    "%matplotlib inline\n",
    "%config InlineBackend.figure_format = 'retina'\n",
    "\n",
    "import tensorflow as tf\n",
    "import pickle\n",
    "import helper\n",
    "import random\n",
    "\n",
    "# Set batch size if not already set\n",
    "try:\n",
    "    if batch_size:\n",
    "        pass\n",
    "except NameError:\n",
    "    batch_size = 64\n",
    "\n",
    "save_model_path = './image_classification'\n",
    "n_samples = 4\n",
    "top_n_predictions = 3\n",
    "\n",
    "def test_model():\n",
    "    \"\"\"\n",
    "    Test the saved model against the test dataset\n",
    "    \"\"\"\n",
    "\n",
    "    test_features, test_labels = pickle.load(open('preprocess_training.p', mode='rb'))\n",
    "    loaded_graph = tf.Graph()\n",
    "\n",
    "    with tf.Session(graph=loaded_graph) as sess:\n",
    "        # Load model\n",
    "        loader = tf.train.import_meta_graph(save_model_path + '.meta')\n",
    "        loader.restore(sess, save_model_path)\n",
    "\n",
    "        # Get Tensors from loaded model\n",
    "        loaded_x = loaded_graph.get_tensor_by_name('x:0')\n",
    "        loaded_y = loaded_graph.get_tensor_by_name('y:0')\n",
    "        loaded_keep_prob = loaded_graph.get_tensor_by_name('keep_prob:0')\n",
    "        loaded_logits = loaded_graph.get_tensor_by_name('logits:0')\n",
    "        loaded_acc = loaded_graph.get_tensor_by_name('accuracy:0')\n",
    "        \n",
    "        # Get accuracy in batches for memory limitations\n",
    "        test_batch_acc_total = 0\n",
    "        test_batch_count = 0\n",
    "        \n",
    "        for train_feature_batch, train_label_batch in helper.batch_features_labels(test_features, test_labels, batch_size):\n",
    "            test_batch_acc_total += sess.run(\n",
    "                loaded_acc,\n",
    "                feed_dict={loaded_x: train_feature_batch, loaded_y: train_label_batch, loaded_keep_prob: 1.0})\n",
    "            test_batch_count += 1\n",
    "\n",
    "        print('Testing Accuracy: {}\\n'.format(test_batch_acc_total/test_batch_count))\n",
    "\n",
    "        # Print Random Samples\n",
    "        random_test_features, random_test_labels = tuple(zip(*random.sample(list(zip(test_features, test_labels)), n_samples)))\n",
    "        random_test_predictions = sess.run(\n",
    "            tf.nn.top_k(tf.nn.softmax(loaded_logits), top_n_predictions),\n",
    "            feed_dict={loaded_x: random_test_features, loaded_y: random_test_labels, loaded_keep_prob: 1.0})\n",
    "        helper.display_image_predictions(random_test_features, random_test_labels, random_test_predictions)\n",
    "\n",
    "\n",
    "test_model()"
   ]
  }
 ],
 "metadata": {
  "kernelspec": {
   "display_name": "Python 3",
   "language": "python",
   "name": "python3"
  },
  "language_info": {
   "codemirror_mode": {
    "name": "ipython",
    "version": 3
   },
   "file_extension": ".py",
   "mimetype": "text/x-python",
   "name": "python",
   "nbconvert_exporter": "python",
   "pygments_lexer": "ipython3",
   "version": "3.5.2"
  }
 },
 "nbformat": 4,
 "nbformat_minor": 0
}
